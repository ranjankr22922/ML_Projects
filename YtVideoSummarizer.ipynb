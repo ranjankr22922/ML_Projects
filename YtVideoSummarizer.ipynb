{
  "nbformat": 4,
  "nbformat_minor": 0,
  "metadata": {
    "colab": {
      "provenance": [],
      "authorship_tag": "ABX9TyPmTEqZIqmwT/E4Ze4tjYjX",
      "include_colab_link": true
    },
    "kernelspec": {
      "name": "python3",
      "display_name": "Python 3"
    },
    "language_info": {
      "name": "python"
    }
  },
  "cells": [
    {
      "cell_type": "markdown",
      "metadata": {
        "id": "view-in-github",
        "colab_type": "text"
      },
      "source": [
        "<a href=\"https://colab.research.google.com/github/ranjankr22922/ML_Projects/blob/main/YtVideoSummarizer.ipynb\" target=\"_parent\"><img src=\"https://colab.research.google.com/assets/colab-badge.svg\" alt=\"Open In Colab\"/></a>"
      ]
    },
    {
      "cell_type": "code",
      "execution_count": 29,
      "metadata": {
        "colab": {
          "base_uri": "https://localhost:8080/"
        },
        "id": "8e5gh4cPffM5",
        "outputId": "d68c1a30-2140-4e69-d7af-a2b066a6e09a"
      },
      "outputs": [
        {
          "output_type": "stream",
          "name": "stdout",
          "text": [
            "Requirement already satisfied: transformers in /usr/local/lib/python3.11/dist-packages (4.53.0)\n",
            "Requirement already satisfied: filelock in /usr/local/lib/python3.11/dist-packages (from transformers) (3.18.0)\n",
            "Requirement already satisfied: huggingface-hub<1.0,>=0.30.0 in /usr/local/lib/python3.11/dist-packages (from transformers) (0.33.1)\n",
            "Requirement already satisfied: numpy>=1.17 in /usr/local/lib/python3.11/dist-packages (from transformers) (2.0.2)\n",
            "Requirement already satisfied: packaging>=20.0 in /usr/local/lib/python3.11/dist-packages (from transformers) (24.2)\n",
            "Requirement already satisfied: pyyaml>=5.1 in /usr/local/lib/python3.11/dist-packages (from transformers) (6.0.2)\n",
            "Requirement already satisfied: regex!=2019.12.17 in /usr/local/lib/python3.11/dist-packages (from transformers) (2024.11.6)\n",
            "Requirement already satisfied: requests in /usr/local/lib/python3.11/dist-packages (from transformers) (2.32.3)\n",
            "Requirement already satisfied: tokenizers<0.22,>=0.21 in /usr/local/lib/python3.11/dist-packages (from transformers) (0.21.2)\n",
            "Requirement already satisfied: safetensors>=0.4.3 in /usr/local/lib/python3.11/dist-packages (from transformers) (0.5.3)\n",
            "Requirement already satisfied: tqdm>=4.27 in /usr/local/lib/python3.11/dist-packages (from transformers) (4.67.1)\n",
            "Requirement already satisfied: fsspec>=2023.5.0 in /usr/local/lib/python3.11/dist-packages (from huggingface-hub<1.0,>=0.30.0->transformers) (2025.3.2)\n",
            "Requirement already satisfied: typing-extensions>=3.7.4.3 in /usr/local/lib/python3.11/dist-packages (from huggingface-hub<1.0,>=0.30.0->transformers) (4.14.0)\n",
            "Requirement already satisfied: hf-xet<2.0.0,>=1.1.2 in /usr/local/lib/python3.11/dist-packages (from huggingface-hub<1.0,>=0.30.0->transformers) (1.1.5)\n",
            "Requirement already satisfied: charset-normalizer<4,>=2 in /usr/local/lib/python3.11/dist-packages (from requests->transformers) (3.4.2)\n",
            "Requirement already satisfied: idna<4,>=2.5 in /usr/local/lib/python3.11/dist-packages (from requests->transformers) (3.10)\n",
            "Requirement already satisfied: urllib3<3,>=1.21.1 in /usr/local/lib/python3.11/dist-packages (from requests->transformers) (2.4.0)\n",
            "Requirement already satisfied: certifi>=2017.4.17 in /usr/local/lib/python3.11/dist-packages (from requests->transformers) (2025.6.15)\n"
          ]
        }
      ],
      "source": [
        "!pip install transformers"
      ]
    },
    {
      "cell_type": "code",
      "source": [
        "!pip install youtube-transcript-api"
      ],
      "metadata": {
        "colab": {
          "base_uri": "https://localhost:8080/"
        },
        "id": "pvj3OQzigGZp",
        "outputId": "a13516e1-184f-42d0-d9d4-ba5e8015c4ff"
      },
      "execution_count": 30,
      "outputs": [
        {
          "output_type": "stream",
          "name": "stdout",
          "text": [
            "Requirement already satisfied: youtube-transcript-api in /usr/local/lib/python3.11/dist-packages (1.1.0)\n",
            "Requirement already satisfied: defusedxml<0.8.0,>=0.7.1 in /usr/local/lib/python3.11/dist-packages (from youtube-transcript-api) (0.7.1)\n",
            "Requirement already satisfied: requests in /usr/local/lib/python3.11/dist-packages (from youtube-transcript-api) (2.32.3)\n",
            "Requirement already satisfied: charset-normalizer<4,>=2 in /usr/local/lib/python3.11/dist-packages (from requests->youtube-transcript-api) (3.4.2)\n",
            "Requirement already satisfied: idna<4,>=2.5 in /usr/local/lib/python3.11/dist-packages (from requests->youtube-transcript-api) (3.10)\n",
            "Requirement already satisfied: urllib3<3,>=1.21.1 in /usr/local/lib/python3.11/dist-packages (from requests->youtube-transcript-api) (2.4.0)\n",
            "Requirement already satisfied: certifi>=2017.4.17 in /usr/local/lib/python3.11/dist-packages (from requests->youtube-transcript-api) (2025.6.15)\n"
          ]
        }
      ]
    },
    {
      "cell_type": "code",
      "source": [
        "from transformers import pipeline\n",
        "from youtube_transcript_api import YouTubeTranscriptApi"
      ],
      "metadata": {
        "id": "i4GuPkKegm9Y"
      },
      "execution_count": 31,
      "outputs": []
    },
    {
      "cell_type": "code",
      "source": [
        "youtube_video = \"https://www.youtube.com/watch?v=7IgVGSaQPaw\""
      ],
      "metadata": {
        "id": "nIMlgAXFhA-V"
      },
      "execution_count": 32,
      "outputs": []
    },
    {
      "cell_type": "code",
      "source": [
        "video_id = youtube_video.split(\"=\")[1]"
      ],
      "metadata": {
        "id": "97ri7zPwhVO_"
      },
      "execution_count": 33,
      "outputs": []
    },
    {
      "cell_type": "code",
      "source": [
        "from IPython.display import YouTubeVideo\n",
        "YouTubeVideo(video_id)"
      ],
      "metadata": {
        "colab": {
          "base_uri": "https://localhost:8080/",
          "height": 321
        },
        "id": "5HpvgtKhhe5D",
        "outputId": "1256f830-cd70-41ae-fccc-8fcc9b1d1018"
      },
      "execution_count": 34,
      "outputs": [
        {
          "output_type": "execute_result",
          "data": {
            "text/plain": [
              "<IPython.lib.display.YouTubeVideo at 0x7864c49cd850>"
            ],
            "text/html": [
              "\n",
              "        <iframe\n",
              "            width=\"400\"\n",
              "            height=\"300\"\n",
              "            src=\"https://www.youtube.com/embed/7IgVGSaQPaw\"\n",
              "            frameborder=\"0\"\n",
              "            allowfullscreen\n",
              "            \n",
              "        ></iframe>\n",
              "        "
            ],
            "image/jpeg": "[encoded data removed]"
          },
          "metadata": {},
          "execution_count": 34
        }
      ]
    },
    {
      "cell_type": "code",
      "source": [
        "YouTubeTranscriptApi.get_transcript(video_id)"
      ],
      "metadata": {
        "colab": {
          "base_uri": "https://localhost:8080/"
        },
        "id": "KQEw5rdmh12z",
        "outputId": "a94db9d5-a56d-4f52-cf83-4eb7d061d05e"
      },
      "execution_count": 35,
      "outputs": [
        {
          "output_type": "execute_result",
          "data": {
            "text/plain": [
              "[{'text': 'if you want to become a machine learning',\n",
              "  'start': 0.08,\n",
              "  'duration': 3.72},\n",
              " {'text': 'engineer there are nine essential skills',\n",
              "  'start': 1.68,\n",
              "  'duration': 4.119},\n",
              " {'text': \"you need to master let's go over them\",\n",
              "  'start': 3.8,\n",
              "  'duration': 4.36},\n",
              " {'text': 'one by', 'start': 5.799, 'duration': 2.361},\n",
              " {'text': 'one now machine learning involves',\n",
              "  'start': 8.24,\n",
              "  'duration': 4.72},\n",
              " {'text': 'creating models that learn from data to',\n",
              "  'start': 10.519,\n",
              "  'duration': 4.521},\n",
              " {'text': 'make predictions or decisions as a',\n",
              "  'start': 12.96,\n",
              "  'duration': 3.92},\n",
              " {'text': \"machine learning engineer you'll need to\",\n",
              "  'start': 15.04,\n",
              "  'duration': 3.96},\n",
              " {'text': 'master various skills from programming',\n",
              "  'start': 16.88,\n",
              "  'duration': 4.319},\n",
              " {'text': 'and math to deploying models first up',\n",
              "  'start': 19.0,\n",
              "  'duration': 4.039},\n",
              " {'text': 'you need to get proficient with python',\n",
              "  'start': 21.199,\n",
              "  'duration': 3.281},\n",
              " {'text': \"it's the primary language used in\",\n",
              "  'start': 23.039,\n",
              "  'duration': 3.32},\n",
              " {'text': \"machine learning it's pretty simple and\",\n",
              "  'start': 24.48,\n",
              "  'duration': 3.719},\n",
              " {'text': 'you can get a decent grasp of it in',\n",
              "  'start': 26.359,\n",
              "  'duration': 4.32},\n",
              " {'text': 'about a month or two now some jobs might',\n",
              "  'start': 28.199,\n",
              "  'duration': 5.241},\n",
              " {'text': 'ask for other languages like Java r or',\n",
              "  'start': 30.679,\n",
              "  'duration': 5.361},\n",
              " {'text': 'C++ for performance reasons but as a',\n",
              "  'start': 33.44,\n",
              "  'duration': 4.24},\n",
              " {'text': \"beginner just stick to python don't\",\n",
              "  'start': 36.04,\n",
              "  'duration': 3.44},\n",
              " {'text': 'overwhelm Yourself by trying to learn',\n",
              "  'start': 37.68,\n",
              "  'duration': 3.92},\n",
              " {'text': 'everything at once focus on mastering',\n",
              "  'start': 39.48,\n",
              "  'duration': 3.96},\n",
              " {'text': 'python first the next thing you need to',\n",
              "  'start': 41.6,\n",
              "  'duration': 3.959},\n",
              " {'text': 'learn is a version control system like',\n",
              "  'start': 43.44,\n",
              "  'duration': 4.32},\n",
              " {'text': 'git git is not a programming language',\n",
              "  'start': 45.559,\n",
              "  'duration': 4.361},\n",
              " {'text': \"it's a tool we use to track changes to\",\n",
              "  'start': 47.76,\n",
              "  'duration': 4.319},\n",
              " {'text': 'our code and collaborate with others git',\n",
              "  'start': 49.92,\n",
              "  'duration': 3.639},\n",
              " {'text': \"has a ton of features but you don't need\",\n",
              "  'start': 52.079,\n",
              "  'duration': 3.041},\n",
              " {'text': 'to learn all of them think of it like',\n",
              "  'start': 53.559,\n",
              "  'duration': 4.48},\n",
              " {'text': 'the 8020 rule 80% of the time you use',\n",
              "  'start': 55.12,\n",
              "  'duration': 5.72},\n",
              " {'text': '20% of GS features so one to two weeks',\n",
              "  'start': 58.039,\n",
              "  'duration': 4.761},\n",
              " {'text': 'of practice is enough to get up and',\n",
              "  'start': 60.84,\n",
              "  'duration': 4.16},\n",
              " {'text': 'running next you need to dive into data',\n",
              "  'start': 62.8,\n",
              "  'duration': 4.44},\n",
              " {'text': 'structures and algorithms I know a lot',\n",
              "  'start': 65.0,\n",
              "  'duration': 4.28},\n",
              " {'text': 'of self-taught Engineers skip this step',\n",
              "  'start': 67.24,\n",
              "  'duration': 4.239},\n",
              " {'text': \"but trust me it's super important first\",\n",
              "  'start': 69.28,\n",
              "  'duration': 4.12},\n",
              " {'text': 'off understanding these Concepts will',\n",
              "  'start': 71.479,\n",
              "  'duration': 4.121},\n",
              " {'text': 'really boost your problem solving skills',\n",
              "  'start': 73.4,\n",
              "  'duration': 4.2},\n",
              " {'text': 'which is key for tackling complex',\n",
              "  'start': 75.6,\n",
              "  'duration': 4.199},\n",
              " {'text': 'challenges plus big tech companies like',\n",
              "  'start': 77.6,\n",
              "  'duration': 4.64},\n",
              " {'text': 'Google Amazon and Facebook love to ask',\n",
              "  'start': 79.799,\n",
              "  'duration': 4.64},\n",
              " {'text': 'about data structures and algorithms in',\n",
              "  'start': 82.24,\n",
              "  'duration': 4.76},\n",
              " {'text': 'job interviews also using the right data',\n",
              "  'start': 84.439,\n",
              "  'duration': 4.72},\n",
              " {'text': 'structures helps you manage large data',\n",
              "  'start': 87.0,\n",
              "  'duration': 3.88},\n",
              " {'text': 'sets efficiently and keeps your',\n",
              "  'start': 89.159,\n",
              "  'duration': 3.801},\n",
              " {'text': 'algorithms running smoothly so spend',\n",
              "  'start': 90.88,\n",
              "  'duration': 4.199},\n",
              " {'text': \"about a month or two on this and you'll\",\n",
              "  'start': 92.96,\n",
              "  'duration': 4.08},\n",
              " {'text': 'be in a great shape next you need to get',\n",
              "  'start': 95.079,\n",
              "  'duration': 4.641},\n",
              " {'text': 'comfortable with SQL SQL stands for',\n",
              "  'start': 97.04,\n",
              "  'duration': 4.759},\n",
              " {'text': \"structured query language it's a very\",\n",
              "  'start': 99.72,\n",
              "  'duration': 3.96},\n",
              " {'text': 'simple language we use for working with',\n",
              "  'start': 101.799,\n",
              "  'duration': 4.161},\n",
              " {'text': 'databases as a machine learning engineer',\n",
              "  'start': 103.68,\n",
              "  'duration': 4.6},\n",
              " {'text': 'you should know how to use SQL to access',\n",
              "  'start': 105.96,\n",
              "  'duration': 4.24},\n",
              " {'text': 'and organize the data you need for your',\n",
              "  'start': 108.28,\n",
              "  'duration': 4.199},\n",
              " {'text': 'models SQL is pretty simple and you can',\n",
              "  'start': 110.2,\n",
              "  'duration': 4.08},\n",
              " {'text': 'get a decent grasp of it in about a',\n",
              "  'start': 112.479,\n",
              "  'duration': 3.881},\n",
              " {'text': 'month or two now by the way to help you',\n",
              "  'start': 114.28,\n",
              "  'duration': 4.159},\n",
              " {'text': \"on this journey I've created a free\",\n",
              "  'start': 116.36,\n",
              "  'duration': 4.64},\n",
              " {'text': 'supplementary PDF that breaks down the',\n",
              "  'start': 118.439,\n",
              "  'duration': 4.441},\n",
              " {'text': 'specific Concepts you need to learn for',\n",
              "  'start': 121.0,\n",
              "  'duration': 3.68},\n",
              " {'text': \"each skill it's a great resource to\",\n",
              "  'start': 122.88,\n",
              "  'duration': 3.839},\n",
              " {'text': 'review your progress find gaps in your',\n",
              "  'start': 124.68,\n",
              "  'duration': 4.04},\n",
              " {'text': 'knowledge and prepare for interviews you',\n",
              "  'start': 126.719,\n",
              "  'duration': 4.001},\n",
              " {'text': 'can find the link in the description box',\n",
              "  'start': 128.72,\n",
              "  'duration': 3.76},\n",
              " {'text': 'also I have a bunch of tutorials on this',\n",
              "  'start': 130.72,\n",
              "  'duration': 3.519},\n",
              " {'text': 'channel and complete courses on my',\n",
              "  'start': 132.48,\n",
              "  'duration': 2.96},\n",
              " {'text': \"website if you're looking for a\",\n",
              "  'start': 134.239,\n",
              "  'duration': 3.161},\n",
              " {'text': 'structured learning again links are in',\n",
              "  'start': 135.44,\n",
              "  'duration': 4.0},\n",
              " {'text': 'the description box the next thing you',\n",
              "  'start': 137.4,\n",
              "  'duration': 3.919},\n",
              " {'text': 'need is a solid foundation in', 'start': 139.44, 'duration': 3.92},\n",
              " {'text': 'mathematics and statistics this is',\n",
              "  'start': 141.319,\n",
              "  'duration': 3.56},\n",
              " {'text': 'crucial because machine learning',\n",
              "  'start': 143.36,\n",
              "  'duration': 3.959},\n",
              " {'text': 'algorithms are built on these principles',\n",
              "  'start': 144.879,\n",
              "  'duration': 5.041},\n",
              " {'text': 'focus on linear algebra calculus',\n",
              "  'start': 147.319,\n",
              "  'duration': 4.801},\n",
              " {'text': 'probability and statistics these will',\n",
              "  'start': 149.92,\n",
              "  'duration': 4.08},\n",
              " {'text': 'help you understand how machine learning',\n",
              "  'start': 152.12,\n",
              "  'duration': 4.479},\n",
              " {'text': 'algorithms work and how to optimize them',\n",
              "  'start': 154.0,\n",
              "  'duration': 4.879},\n",
              " {'text': 'spend about 2 to 3 months to master',\n",
              "  'start': 156.599,\n",
              "  'duration': 4.36},\n",
              " {'text': 'these topics after that you need to get',\n",
              "  'start': 158.879,\n",
              "  'duration': 4.481},\n",
              " {'text': 'good at preparing and visualizing data',\n",
              "  'start': 160.959,\n",
              "  'duration': 4.36},\n",
              " {'text': 'for your models this means cleaning up',\n",
              "  'start': 163.36,\n",
              "  'duration': 4.12},\n",
              " {'text': 'the data and organizing it in a way that',\n",
              "  'start': 165.319,\n",
              "  'duration': 4.321},\n",
              " {'text': 'makes it easy for your model to',\n",
              "  'start': 167.48,\n",
              "  'duration': 3.479},\n",
              " {'text': \"understand you'll need to learn how to\",\n",
              "  'start': 169.64,\n",
              "  'duration': 3.76},\n",
              " {'text': 'use tools like pandas and numpy to',\n",
              "  'start': 170.959,\n",
              "  'duration': 4.601},\n",
              " {'text': 'manipulate and clean the data once your',\n",
              "  'start': 173.4,\n",
              "  'duration': 4.0},\n",
              " {'text': 'data is clean you need to visualize it',\n",
              "  'start': 175.56,\n",
              "  'duration': 3.88},\n",
              " {'text': 'to understand patterns and communicate',\n",
              "  'start': 177.4,\n",
              "  'duration': 4.6},\n",
              " {'text': 'results python libraries like matplot',\n",
              "  'start': 179.44,\n",
              "  'duration': 4.76},\n",
              " {'text': 'lip and Seaborn will help you create',\n",
              "  'start': 182.0,\n",
              "  'duration': 4.519},\n",
              " {'text': 'insightful visualizations to identify',\n",
              "  'start': 184.2,\n",
              "  'duration': 4.679},\n",
              " {'text': 'Trends and anomalies if you have a solid',\n",
              "  'start': 186.519,\n",
              "  'duration': 4.481},\n",
              " {'text': 'background in Python and SQL you can get',\n",
              "  'start': 188.879,\n",
              "  'duration': 4.321},\n",
              " {'text': 'a good grasp of data pre-processing and',\n",
              "  'start': 191.0,\n",
              "  'duration': 4.599},\n",
              " {'text': 'visualization in a month or two now',\n",
              "  'start': 193.2,\n",
              "  'duration': 3.679},\n",
              " {'text': \"let's talk about machine learning\",\n",
              "  'start': 195.599,\n",
              "  'duration': 3.36},\n",
              " {'text': 'fundamentals machine learning algorithms',\n",
              "  'start': 196.879,\n",
              "  'duration': 4.601},\n",
              " {'text': 'fall into two categories supervised and',\n",
              "  'start': 198.959,\n",
              "  'duration': 4.881},\n",
              " {'text': 'unsupervised in supervised learning the',\n",
              "  'start': 201.48,\n",
              "  'duration': 4.759},\n",
              " {'text': 'model learns from labeled data meaning',\n",
              "  'start': 203.84,\n",
              "  'duration': 5.08},\n",
              " {'text': 'each input comes with a known output in',\n",
              "  'start': 206.239,\n",
              "  'duration': 4.36},\n",
              " {'text': 'unsupervised Lear learning the model',\n",
              "  'start': 208.92,\n",
              "  'duration': 4.12},\n",
              " {'text': 'works with unlabeled data and tries to',\n",
              "  'start': 210.599,\n",
              "  'duration': 4.521},\n",
              " {'text': 'figure out patterns and relationships on',\n",
              "  'start': 213.04,\n",
              "  'duration': 4.0},\n",
              " {'text': \"its own it's important to learn about\",\n",
              "  'start': 215.12,\n",
              "  'duration': 3.759},\n",
              " {'text': 'these types of algorithms and how they',\n",
              "  'start': 217.04,\n",
              "  'duration': 3.8},\n",
              " {'text': \"work you'll also need to get familiar\",\n",
              "  'start': 218.879,\n",
              "  'duration': 4.161},\n",
              " {'text': 'with tools like tensor flow pie torch',\n",
              "  'start': 220.84,\n",
              "  'duration': 4.36},\n",
              " {'text': 'and pyed learn these are the essential',\n",
              "  'start': 223.04,\n",
              "  'duration': 4.199},\n",
              " {'text': 'tools used to build and train machine',\n",
              "  'start': 225.2,\n",
              "  'duration': 4.44},\n",
              " {'text': 'learning models dedicate about 3 to four',\n",
              "  'start': 227.239,\n",
              "  'duration': 4.2},\n",
              " {'text': 'months to master the core machine',\n",
              "  'start': 229.64,\n",
              "  'duration': 3.72},\n",
              " {'text': 'learning Concepts and how to use these',\n",
              "  'start': 231.439,\n",
              "  'duration': 4.481},\n",
              " {'text': 'tools effectively once you have a good',\n",
              "  'start': 233.36,\n",
              "  'duration': 4.159},\n",
              " {'text': \"understanding of the basics it's time to\",\n",
              "  'start': 235.92,\n",
              "  'duration': 3.399},\n",
              " {'text': 'dive into more advanced machine learning',\n",
              "  'start': 237.519,\n",
              "  'duration': 3.841},\n",
              " {'text': 'Concepts this includes techniques like',\n",
              "  'start': 239.319,\n",
              "  'duration': 3.84},\n",
              " {'text': 'Ensemble learning which combines',\n",
              "  'start': 241.36,\n",
              "  'duration': 4.2},\n",
              " {'text': 'multiple models to improve performance',\n",
              "  'start': 243.159,\n",
              "  'duration': 4.44},\n",
              " {'text': 'and deep learning which involves neural',\n",
              "  'start': 245.56,\n",
              "  'duration': 4.239},\n",
              " {'text': \"networks with many layers you'll also\",\n",
              "  'start': 247.599,\n",
              "  'duration': 4.121},\n",
              " {'text': 'need to learn about natural language',\n",
              "  'start': 249.799,\n",
              "  'duration': 4.321},\n",
              " {'text': 'processing or NLP for working with Text',\n",
              "  'start': 251.72,\n",
              "  'duration': 4.639},\n",
              " {'text': 'data and computer vision for working',\n",
              "  'start': 254.12,\n",
              "  'duration': 4.44},\n",
              " {'text': 'with images these Advanced topics will',\n",
              "  'start': 256.359,\n",
              "  'duration': 4.321},\n",
              " {'text': 'help you tackle more complex problems',\n",
              "  'start': 258.56,\n",
              "  'duration': 4.4},\n",
              " {'text': 'and build more sophisticated models',\n",
              "  'start': 260.68,\n",
              "  'duration': 4.12},\n",
              " {'text': 'spend about 2 to 3 months on these',\n",
              "  'start': 262.96,\n",
              "  'duration': 3.56},\n",
              " {'text': 'advanced concepts to deepen your',\n",
              "  'start': 264.8,\n",
              "  'duration': 3.959},\n",
              " {'text': 'Knowledge and Skills finally you need to',\n",
              "  'start': 266.52,\n",
              "  'duration': 4.119},\n",
              " {'text': 'know how to put the models you build',\n",
              "  'start': 268.759,\n",
              "  'duration': 3.961},\n",
              " {'text': 'into action this means learning how to',\n",
              "  'start': 270.639,\n",
              "  'duration': 4.201},\n",
              " {'text': 'create simple web services that let',\n",
              "  'start': 272.72,\n",
              "  'duration': 4.039},\n",
              " {'text': 'other applications use your models you',\n",
              "  'start': 274.84,\n",
              "  'duration': 3.32},\n",
              " {'text': 'can do this by learning python',\n",
              "  'start': 276.759,\n",
              "  'duration': 3.561},\n",
              " {'text': 'Frameworks like flask or Django you',\n",
              "  'start': 278.16,\n",
              "  'duration': 3.879},\n",
              " {'text': 'should also learn about Docker which is',\n",
              "  'start': 280.32,\n",
              "  'duration': 3.76},\n",
              " {'text': 'a tool that makes it easy to package',\n",
              "  'start': 282.039,\n",
              "  'duration': 4.401},\n",
              " {'text': 'your model and all its dependencies so',\n",
              "  'start': 284.08,\n",
              "  'duration': 4.88},\n",
              " {'text': 'it runs smoothly on any machine think of',\n",
              "  'start': 286.44,\n",
              "  'duration': 4.199},\n",
              " {'text': 'it like packing everything your model',\n",
              "  'start': 288.96,\n",
              "  'duration': 4.0},\n",
              " {'text': 'needs into a box so it works anywhere',\n",
              "  'start': 290.639,\n",
              "  'duration': 4.84},\n",
              " {'text': 'you take it spend one to two months',\n",
              "  'start': 292.96,\n",
              "  'duration': 4.44},\n",
              " {'text': 'mastering these Basics so you can',\n",
              "  'start': 295.479,\n",
              "  'duration': 3.961},\n",
              " {'text': 'confidently deploy your models and make',\n",
              "  'start': 297.4,\n",
              "  'duration': 4.56},\n",
              " {'text': 'them available for real word use so if',\n",
              "  'start': 299.44,\n",
              "  'duration': 5.08},\n",
              " {'text': 'you dedicate 3 to 5 hours every day you',\n",
              "  'start': 301.96,\n",
              "  'duration': 4.56},\n",
              " {'text': 'can follow this road map and pick up all',\n",
              "  'start': 304.52,\n",
              "  'duration': 3.76},\n",
              " {'text': 'the skills you need to apply for',\n",
              "  'start': 306.52,\n",
              "  'duration': 3.519},\n",
              " {'text': 'entrylevel machine learning jobs in',\n",
              "  'start': 308.28,\n",
              "  'duration': 4.12},\n",
              " {'text': 'about 12 to 20 months if you have any',\n",
              "  'start': 310.039,\n",
              "  'duration': 3.88},\n",
              " {'text': 'questions please let me know in the',\n",
              "  'start': 312.4,\n",
              "  'duration': 3.6},\n",
              " {'text': \"comments below I'll do my best to answer\",\n",
              "  'start': 313.919,\n",
              "  'duration': 4.361},\n",
              " {'text': 'you right here or in my future videos if',\n",
              "  'start': 316.0,\n",
              "  'duration': 3.84},\n",
              " {'text': 'you enjoy this video please give it a',\n",
              "  'start': 318.28,\n",
              "  'duration': 3.32},\n",
              " {'text': 'like And subscribe for more useful',\n",
              "  'start': 319.84,\n",
              "  'duration': 4.76},\n",
              " {'text': 'content', 'start': 321.6, 'duration': 3.0}]"
            ]
          },
          "metadata": {},
          "execution_count": 35
        }
      ]
    },
    {
      "cell_type": "code",
      "source": [
        "transcipt = YouTubeTranscriptApi.get_transcript(video_id)"
      ],
      "metadata": {
        "id": "s4KhGQkbiD0i"
      },
      "execution_count": 36,
      "outputs": []
    },
    {
      "cell_type": "code",
      "source": [
        "transcipt[:5]"
      ],
      "metadata": {
        "colab": {
          "base_uri": "https://localhost:8080/"
        },
        "id": "BbqP8DAMiz43",
        "outputId": "1b1bc719-b24e-4650-c18e-c9b14ea077a4"
      },
      "execution_count": 37,
      "outputs": [
        {
          "output_type": "execute_result",
          "data": {
            "text/plain": [
              "[{'text': 'if you want to become a machine learning',\n",
              "  'start': 0.08,\n",
              "  'duration': 3.72},\n",
              " {'text': 'engineer there are nine essential skills',\n",
              "  'start': 1.68,\n",
              "  'duration': 4.119},\n",
              " {'text': \"you need to master let's go over them\",\n",
              "  'start': 3.8,\n",
              "  'duration': 4.36},\n",
              " {'text': 'one by', 'start': 5.799, 'duration': 2.361},\n",
              " {'text': 'one now machine learning involves',\n",
              "  'start': 8.24,\n",
              "  'duration': 4.72}]"
            ]
          },
          "metadata": {},
          "execution_count": 37
        }
      ]
    },
    {
      "cell_type": "code",
      "source": [
        "result = \"\"\n",
        "for i in transcipt:\n",
        "  result += ' ' + i['text'] + \"\"\n",
        "\n",
        "print(len(result))"
      ],
      "metadata": {
        "colab": {
          "base_uri": "https://localhost:8080/"
        },
        "id": "57eB7OR3jFoa",
        "outputId": "e656fc43-24a7-4364-af67-980553f5de64"
      },
      "execution_count": 38,
      "outputs": [
        {
          "output_type": "stream",
          "name": "stdout",
          "text": [
            "5862\n"
          ]
        }
      ]
    },
    {
      "cell_type": "code",
      "source": [
        "summarizer = pipeline('summarization')"
      ],
      "metadata": {
        "colab": {
          "base_uri": "https://localhost:8080/"
        },
        "id": "fImdV4Icji0S",
        "outputId": "460dae0c-036a-4558-be58-15512d963e29"
      },
      "execution_count": 39,
      "outputs": [
        {
          "output_type": "stream",
          "name": "stderr",
          "text": [
            "No model was supplied, defaulted to sshleifer/distilbart-cnn-12-6 and revision a4f8f3e (https://huggingface.co/sshleifer/distilbart-cnn-12-6).\n",
            "Using a pipeline without specifying a model name and revision in production is not recommended.\n",
            "Device set to use cpu\n"
          ]
        }
      ]
    },
    {
      "cell_type": "code",
      "source": [
        "num_iters = int(len(result)/1000)\n",
        "summarized_text = []\n",
        "for i in range(0, num_iters + 1):\n",
        "  start = 0\n",
        "  start = i * 1000\n",
        "  end = (i + 1) * 1000\n",
        "  out = summarizer(result[start:end], min_length = 5, max_length = 200)\n",
        "  out = out[0]\n",
        "  out = out['summary_text']\n",
        "  summarized_text.append(out)\n",
        "\n",
        "print(summarized_text)"
      ],
      "metadata": {
        "colab": {
          "base_uri": "https://localhost:8080/"
        },
        "id": "tX5NfJbNjxir",
        "outputId": "8dfae7d3-1580-4cae-b1be-2001105c3704"
      },
      "execution_count": 40,
      "outputs": [
        {
          "output_type": "stream",
          "name": "stderr",
          "text": [
            "Your max_length is set to 200, but your input_length is only 195. Since this is a summarization task, where outputs shorter than the input are typically wanted, you might consider decreasing max_length manually, e.g. summarizer('...', max_length=97)\n",
            "Your max_length is set to 200, but your input_length is only 193. Since this is a summarization task, where outputs shorter than the input are typically wanted, you might consider decreasing max_length manually, e.g. summarizer('...', max_length=96)\n",
            "Your max_length is set to 200, but your input_length is only 185. Since this is a summarization task, where outputs shorter than the input are typically wanted, you might consider decreasing max_length manually, e.g. summarizer('...', max_length=92)\n",
            "Your max_length is set to 200, but your input_length is only 189. Since this is a summarization task, where outputs shorter than the input are typically wanted, you might consider decreasing max_length manually, e.g. summarizer('...', max_length=94)\n",
            "Your max_length is set to 200, but your input_length is only 175. Since this is a summarization task, where outputs shorter than the input are typically wanted, you might consider decreasing max_length manually, e.g. summarizer('...', max_length=87)\n",
            "Your max_length is set to 200, but your input_length is only 173. Since this is a summarization task, where outputs shorter than the input are typically wanted, you might consider decreasing max_length manually, e.g. summarizer('...', max_length=86)\n"
          ]
        },
        {
          "output_type": "stream",
          "name": "stdout",
          "text": [
            "[\" Machine learning involves creating models that learn from data to make predictions or decisions . As a machine learning engineer you'll need to master various skills from programming and math to deploying models .\", ' Understanding these Concepts will really boost your problem solving skills which is key for tackling complex challenges . One to two weeks of practice is enough to get up and running next you need to dive into data structures and algorithms . Using the right data structures helps you manage large data sets efficiently and keeps your algorithms running smoothly .', \" Free supplementary PDF breaks down specific Concepts you need to learn for each skill . It's a great resource to review your progress find gaps in your knowledge and prepare for interviews . Next thing is a solid foundation in mathematics and statistics .\", ' Machine learning algorithms fall into two categories supervised and unsupervised . In supervised learning the model learns from labeled data meaning each input comes with a known output . In\\xa0unsupervised\\xa0learning the model works with unlabeled data and tries to figure out patterns and relationships on its own .', \" Machine learning Concepts are the core machine learning Concepts and how to use these tools like tensor flow pie torch and pyed learn are the essential tools used to build and train machine learning models . With a good understanding of the basics it's time to dive into more advanced concepts like Ensemble learning and deep learning .\", ' You should also learn about Docker which is a tool that makes it easy to package your model and all its dependencies so it runs smoothly on any machine . If you dedicate 3 to 5 hours every day you can pick up all the skills you need to apply for entrylevel machine learning jobs in about 12 to 20 months .']\n"
          ]
        }
      ]
    },
    {
      "cell_type": "code",
      "source": [
        "str(summarized_text)"
      ],
      "metadata": {
        "colab": {
          "base_uri": "https://localhost:8080/",
          "height": 127
        },
        "id": "RtrDV9-rkkob",
        "outputId": "e8cf8199-fac5-44cf-dfd6-63b7f98d96c8"
      },
      "execution_count": 41,
      "outputs": [
        {
          "output_type": "execute_result",
          "data": {
            "text/plain": [
              "'[\" Machine learning involves creating models that learn from data to make predictions or decisions . As a machine learning engineer you\\'ll need to master various skills from programming and math to deploying models .\", \\' Understanding these Concepts will really boost your problem solving skills which is key for tackling complex challenges . One to two weeks of practice is enough to get up and running next you need to dive into data structures and algorithms . Using the right data structures helps you manage large data sets efficiently and keeps your algorithms running smoothly .\\', \" Free supplementary PDF breaks down specific Concepts you need to learn for each skill . It\\'s a great resource to review your progress find gaps in your knowledge and prepare for interviews . Next thing is a solid foundation in mathematics and statistics .\", \\' Machine learning algorithms fall into two categories supervised and unsupervised . In supervised learning the model learns from labeled data meaning each input comes with a known output . In\\\\xa0unsupervised\\\\xa0learning the model works with unlabeled data and tries to figure out patterns and relationships on its own .\\', \" Machine learning Concepts are the core machine learning Concepts and how to use these tools like tensor flow pie torch and pyed learn are the essential tools used to build and train machine learning models . With a good understanding of the basics it\\'s time to dive into more advanced concepts like Ensemble learning and deep learning .\", \\' You should also learn about Docker which is a tool that makes it easy to package your model and all its dependencies so it runs smoothly on any machine . If you dedicate 3 to 5 hours every day you can pick up all the skills you need to apply for entrylevel machine learning jobs in about 12 to 20 months .\\']'"
            ],
            "application/vnd.google.colaboratory.intrinsic+json": {
              "type": "string"
            }
          },
          "metadata": {},
          "execution_count": 41
        }
      ]
    }
  ]
}